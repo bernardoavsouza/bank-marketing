{
 "cells": [
  {
   "cell_type": "markdown",
   "id": "969bf232",
   "metadata": {},
   "source": [
    "# 0.0. IMPORTS"
   ]
  },
  {
   "cell_type": "code",
   "execution_count": 1,
   "id": "1945ec07",
   "metadata": {},
   "outputs": [],
   "source": [
    "import datetime\n",
    "import numpy as np\n",
    "import pandas as pd\n",
    "\n",
    "from matplotlib import pyplot as plt\n",
    "import seaborn as sns\n",
    "\n",
    "from kaggle.api.kaggle_api_extended import KaggleApi\n",
    "from os import remove\n",
    "from zipfile import ZipFile"
   ]
  },
  {
   "cell_type": "markdown",
   "id": "19d8b20f",
   "metadata": {},
   "source": [
    "## 0.1. Helper Functions"
   ]
  },
  {
   "cell_type": "markdown",
   "id": "3e011e43",
   "metadata": {},
   "source": [
    "## 0.2. Seeds"
   ]
  },
  {
   "cell_type": "markdown",
   "id": "1b0bdcf4",
   "metadata": {},
   "source": [
    "## 0.3. Loading Data"
   ]
  },
  {
   "cell_type": "code",
   "execution_count": 2,
   "id": "a3da4e5a",
   "metadata": {},
   "outputs": [],
   "source": [
    "kaggle = KaggleApi()\n",
    "kaggle.authenticate()\n",
    "kaggle.dataset_download_file('hariharanpavan/bank-marketing-dataset-analysis-classification', 'bank-full.csv')\n",
    "\n",
    "with ZipFile('bank-full.csv.zip', 'r') as Zip:\n",
    "    Zip.extractall()\n",
    "    \n",
    "df_raw = pd.read_csv('bank-full.csv')\n",
    "\n",
    "remove('bank-full.csv')\n",
    "remove('bank-full.csv.zip')"
   ]
  },
  {
   "cell_type": "markdown",
   "id": "51b94f49",
   "metadata": {},
   "source": [
    "# 1.0. DATA DESCRIPTION"
   ]
  },
  {
   "cell_type": "code",
   "execution_count": 3,
   "id": "d05928de",
   "metadata": {},
   "outputs": [],
   "source": [
    "df1 = df_raw.copy()"
   ]
  },
  {
   "cell_type": "markdown",
   "id": "5f9043a1",
   "metadata": {},
   "source": [
    "## 1.1. Rename Columns"
   ]
  },
  {
   "cell_type": "code",
   "execution_count": 4,
   "id": "b0cc5cf5",
   "metadata": {},
   "outputs": [],
   "source": [
    "df1.columns = ['age', 'job', 'marital_status', 'education_level', 'default', 'balance', 'housing_loan',\n",
    "               'loan', 'contact_way', 'day_of_month_lc', 'month_lc', 'duration_lc', 'contact_count', 'days_p',\n",
    "               'contact_count_p', 'y_p', 'y']"
   ]
  },
  {
   "cell_type": "markdown",
   "id": "8b33af5b",
   "metadata": {},
   "source": [
    "## 1.2. Data Dimensions"
   ]
  },
  {
   "cell_type": "code",
   "execution_count": 5,
   "id": "036e7591",
   "metadata": {},
   "outputs": [
    {
     "name": "stdout",
     "output_type": "stream",
     "text": [
      "Number of Rows: 45211\n",
      "Number of Columns: 17\n"
     ]
    }
   ],
   "source": [
    "print(\"Number of Rows: {}\".format(df1.shape[0]))\n",
    "print(\"Number of Columns: {}\".format(df1.shape[1]))"
   ]
  },
  {
   "cell_type": "markdown",
   "id": "3da5b0dc",
   "metadata": {},
   "source": [
    "## 1.3. Data Types"
   ]
  },
  {
   "cell_type": "code",
   "execution_count": 6,
   "id": "25fb0702",
   "metadata": {
    "scrolled": false
   },
   "outputs": [
    {
     "data": {
      "text/plain": [
       "age                 int64\n",
       "job                object\n",
       "marital_status     object\n",
       "education_level    object\n",
       "default              bool\n",
       "balance             int64\n",
       "housing_loan         bool\n",
       "loan                 bool\n",
       "contact_way        object\n",
       "day_of_month_lc     int64\n",
       "month_lc           object\n",
       "duration_lc         int64\n",
       "contact_count       int64\n",
       "days_p              int64\n",
       "contact_count_p     int64\n",
       "y_p                object\n",
       "y                    bool\n",
       "dtype: object"
      ]
     },
     "execution_count": 6,
     "metadata": {},
     "output_type": "execute_result"
    }
   ],
   "source": [
    "# Rectifying Booleans\n",
    "df1 = df1.applymap(lambda x: True if x == 'yes' else x)\n",
    "df1 = df1.applymap(lambda x: False if x == 'no' else x)\n",
    "\n",
    "df1.dtypes"
   ]
  },
  {
   "cell_type": "markdown",
   "id": "4a2a65aa",
   "metadata": {},
   "source": [
    "## 1.4. Check NA"
   ]
  },
  {
   "cell_type": "code",
   "execution_count": 7,
   "id": "769ce334",
   "metadata": {},
   "outputs": [
    {
     "data": {
      "text/plain": [
       "age                    0\n",
       "job                  288\n",
       "marital_status         0\n",
       "education_level     1857\n",
       "default                0\n",
       "balance                0\n",
       "housing_loan           0\n",
       "loan                   0\n",
       "contact_way        13020\n",
       "day_of_month_lc        0\n",
       "month_lc               0\n",
       "duration_lc            0\n",
       "contact_count          0\n",
       "days_p                 0\n",
       "contact_count_p        0\n",
       "y_p                36959\n",
       "y                      0\n",
       "dtype: int64"
      ]
     },
     "execution_count": 7,
     "metadata": {},
     "output_type": "execute_result"
    }
   ],
   "source": [
    "df1 = df1.applymap(lambda x: np.nan if x == 'unknown' else x)\n",
    "df1.isna().sum()"
   ]
  },
  {
   "cell_type": "markdown",
   "id": "b7ef1a97",
   "metadata": {},
   "source": [
    "## 1.5. Fillout NA"
   ]
  },
  {
   "cell_type": "code",
   "execution_count": 8,
   "id": "0efbe13a",
   "metadata": {},
   "outputs": [],
   "source": [
    "#job                  \n",
    "df1['job'] = df1['job'].fillna('unemployed')\n",
    "\n",
    "# education_level \n",
    "df1['education_level'] = df1['education_level'].fillna(\"secondary\")\n",
    "\n",
    "#contact_way        \n",
    "df1['contact_way'] = df1['contact_way'].fillna(\"cellular\")\n",
    "\n",
    "#y_p                \n",
    "df1['y_p'] = df1['y_p'].fillna(\"failure\")"
   ]
  },
  {
   "cell_type": "markdown",
   "id": "970c2140",
   "metadata": {},
   "source": [
    "## 1.6. Change Data Types"
   ]
  },
  {
   "cell_type": "markdown",
   "id": "2c13ed4e",
   "metadata": {},
   "source": [
    "## 1.7. Descriptive Statistics"
   ]
  },
  {
   "cell_type": "code",
   "execution_count": 9,
   "id": "bafa3a6a",
   "metadata": {},
   "outputs": [],
   "source": [
    "num_attributes = df1.select_dtypes(include = ['int64', 'float64'])\n",
    "cat_attributes = df1.select_dtypes(exclude = ['int64', 'float64', 'bool'])\n",
    "bool_attributes = df1.select_dtypes(include = ['bool'])"
   ]
  },
  {
   "cell_type": "markdown",
   "id": "adc4620a",
   "metadata": {},
   "source": [
    "### 1.7.1 Numerical Attributes"
   ]
  },
  {
   "cell_type": "code",
   "execution_count": 10,
   "id": "7f72ae7a",
   "metadata": {},
   "outputs": [],
   "source": [
    "# Central Tendency\n",
    "means = pd.DataFrame(num_attributes.apply(np.mean)).T\n",
    "medians = pd.DataFrame(num_attributes.apply(np.median)).T\n",
    "\n",
    "# Dispersion\n",
    "stds = pd.DataFrame(num_attributes.apply(np.std)).T\n",
    "skews = pd.DataFrame(num_attributes.apply(lambda x: x.skew())).T\n",
    "kurtoses = pd.DataFrame(num_attributes.apply(lambda x: x.kurtosis())).T\n",
    "maxima = pd.DataFrame(num_attributes.apply(max)).T\n",
    "minima = pd.DataFrame(num_attributes.apply(min)).T\n",
    "value_range = pd.DataFrame(num_attributes.apply(lambda x: max(x) - min(x))).T"
   ]
  },
  {
   "cell_type": "code",
   "execution_count": 11,
   "id": "8ab1a732",
   "metadata": {},
   "outputs": [
    {
     "data": {
      "text/html": [
       "<div>\n",
       "<style scoped>\n",
       "    .dataframe tbody tr th:only-of-type {\n",
       "        vertical-align: middle;\n",
       "    }\n",
       "\n",
       "    .dataframe tbody tr th {\n",
       "        vertical-align: top;\n",
       "    }\n",
       "\n",
       "    .dataframe thead th {\n",
       "        text-align: right;\n",
       "    }\n",
       "</style>\n",
       "<table border=\"1\" class=\"dataframe\">\n",
       "  <thead>\n",
       "    <tr style=\"text-align: right;\">\n",
       "      <th></th>\n",
       "      <th>Min</th>\n",
       "      <th>Max</th>\n",
       "      <th>Range</th>\n",
       "      <th>Mean</th>\n",
       "      <th>Median</th>\n",
       "      <th>Std</th>\n",
       "      <th>Skew</th>\n",
       "      <th>Kurtosis</th>\n",
       "    </tr>\n",
       "  </thead>\n",
       "  <tbody>\n",
       "    <tr>\n",
       "      <th>age</th>\n",
       "      <td>18.0</td>\n",
       "      <td>95.0</td>\n",
       "      <td>77.0</td>\n",
       "      <td>40.936210</td>\n",
       "      <td>39.0</td>\n",
       "      <td>10.618645</td>\n",
       "      <td>0.684818</td>\n",
       "      <td>0.319570</td>\n",
       "    </tr>\n",
       "    <tr>\n",
       "      <th>balance</th>\n",
       "      <td>-8019.0</td>\n",
       "      <td>102127.0</td>\n",
       "      <td>110146.0</td>\n",
       "      <td>1362.272058</td>\n",
       "      <td>448.0</td>\n",
       "      <td>3044.732156</td>\n",
       "      <td>8.360308</td>\n",
       "      <td>140.751547</td>\n",
       "    </tr>\n",
       "    <tr>\n",
       "      <th>day_of_month_lc</th>\n",
       "      <td>1.0</td>\n",
       "      <td>31.0</td>\n",
       "      <td>30.0</td>\n",
       "      <td>15.806419</td>\n",
       "      <td>16.0</td>\n",
       "      <td>8.322384</td>\n",
       "      <td>0.093079</td>\n",
       "      <td>-1.059897</td>\n",
       "    </tr>\n",
       "    <tr>\n",
       "      <th>duration_lc</th>\n",
       "      <td>0.0</td>\n",
       "      <td>4918.0</td>\n",
       "      <td>4918.0</td>\n",
       "      <td>258.163080</td>\n",
       "      <td>180.0</td>\n",
       "      <td>257.524964</td>\n",
       "      <td>3.144318</td>\n",
       "      <td>18.153915</td>\n",
       "    </tr>\n",
       "    <tr>\n",
       "      <th>contact_count</th>\n",
       "      <td>1.0</td>\n",
       "      <td>63.0</td>\n",
       "      <td>62.0</td>\n",
       "      <td>2.763841</td>\n",
       "      <td>2.0</td>\n",
       "      <td>3.097987</td>\n",
       "      <td>4.898650</td>\n",
       "      <td>39.249651</td>\n",
       "    </tr>\n",
       "    <tr>\n",
       "      <th>days_p</th>\n",
       "      <td>-1.0</td>\n",
       "      <td>871.0</td>\n",
       "      <td>872.0</td>\n",
       "      <td>40.197828</td>\n",
       "      <td>-1.0</td>\n",
       "      <td>100.127639</td>\n",
       "      <td>2.615715</td>\n",
       "      <td>6.935195</td>\n",
       "    </tr>\n",
       "    <tr>\n",
       "      <th>contact_count_p</th>\n",
       "      <td>0.0</td>\n",
       "      <td>275.0</td>\n",
       "      <td>275.0</td>\n",
       "      <td>0.580323</td>\n",
       "      <td>0.0</td>\n",
       "      <td>2.303416</td>\n",
       "      <td>41.846454</td>\n",
       "      <td>4506.860660</td>\n",
       "    </tr>\n",
       "  </tbody>\n",
       "</table>\n",
       "</div>"
      ],
      "text/plain": [
       "                    Min       Max     Range         Mean  Median          Std  \\\n",
       "age                18.0      95.0      77.0    40.936210    39.0    10.618645   \n",
       "balance         -8019.0  102127.0  110146.0  1362.272058   448.0  3044.732156   \n",
       "day_of_month_lc     1.0      31.0      30.0    15.806419    16.0     8.322384   \n",
       "duration_lc         0.0    4918.0    4918.0   258.163080   180.0   257.524964   \n",
       "contact_count       1.0      63.0      62.0     2.763841     2.0     3.097987   \n",
       "days_p             -1.0     871.0     872.0    40.197828    -1.0   100.127639   \n",
       "contact_count_p     0.0     275.0     275.0     0.580323     0.0     2.303416   \n",
       "\n",
       "                      Skew     Kurtosis  \n",
       "age               0.684818     0.319570  \n",
       "balance           8.360308   140.751547  \n",
       "day_of_month_lc   0.093079    -1.059897  \n",
       "duration_lc       3.144318    18.153915  \n",
       "contact_count     4.898650    39.249651  \n",
       "days_p            2.615715     6.935195  \n",
       "contact_count_p  41.846454  4506.860660  "
      ]
     },
     "execution_count": 11,
     "metadata": {},
     "output_type": "execute_result"
    }
   ],
   "source": [
    "stats = pd.concat([minima, maxima, value_range, means, medians, stds, skews, kurtoses]).T\n",
    "stats.columns = [\"Min\", \"Max\", \"Range\", \"Mean\", \"Median\", \"Std\", \"Skew\", \"Kurtosis\"]\n",
    "stats"
   ]
  },
  {
   "cell_type": "markdown",
   "id": "5778aba2",
   "metadata": {},
   "source": [
    "### 1.7.2. Categorical Attributes"
   ]
  },
  {
   "cell_type": "code",
   "execution_count": 12,
   "id": "d263d378",
   "metadata": {},
   "outputs": [
    {
     "data": {
      "text/plain": [
       "job                11\n",
       "marital_status      3\n",
       "education_level     3\n",
       "contact_way         2\n",
       "month_lc           12\n",
       "y_p                 3\n",
       "dtype: int64"
      ]
     },
     "execution_count": 12,
     "metadata": {},
     "output_type": "execute_result"
    }
   ],
   "source": [
    "cat_attributes.apply(lambda x: x.unique().shape[0])"
   ]
  },
  {
   "cell_type": "code",
   "execution_count": 13,
   "id": "1da86a27",
   "metadata": {},
   "outputs": [
    {
     "data": {
      "text/plain": [
       "<matplotlib.axes._subplots.AxesSubplot at 0x250f2606340>"
      ]
     },
     "execution_count": 13,
     "metadata": {},
     "output_type": "execute_result"
    },
    {
     "data": {
      "image/png": "[encoded data removed]",
      "text/plain": [
       "<Figure size 1080x1440 with 6 Axes>"
      ]
     },
     "metadata": {
      "needs_background": "light"
     },
     "output_type": "display_data"
    }
   ],
   "source": [
    "plt.figure(figsize = [15, 20])\n",
    "\n",
    "plt.subplot(4, 1, 1)\n",
    "sns.histplot(x = 'job', data = cat_attributes, shrink=.8)\n",
    "\n",
    "plt.subplot(4, 2, 3)\n",
    "sns.histplot(x = 'marital_status', data = cat_attributes, shrink=.8)\n",
    "\n",
    "plt.subplot(4, 2, 4)\n",
    "sns.histplot(x = 'education_level', data = cat_attributes, shrink=.8)\n",
    "\n",
    "plt.subplot(4, 2, 5)\n",
    "sns.histplot(x = 'contact_way', data = cat_attributes, shrink=.8)\n",
    "\n",
    "plt.subplot(4, 2, 6)\n",
    "sns.histplot(x = 'y_p', data = cat_attributes, shrink=.8)\n",
    "\n",
    "plt.subplot(4, 1, 4)\n",
    "sns.histplot(x = 'month_lc', data = cat_attributes, shrink=.8, hue_order = ['jan', 'feb', 'mar', 'apr', 'may', 'jun', 'jul', 'aug', 'sep', 'out', 'nov', 'dec'])"
   ]
  },
  {
   "cell_type": "markdown",
   "id": "ab2aab31",
   "metadata": {},
   "source": [
    "### 1.7.3. Booleans Attributes"
   ]
  },
  {
   "cell_type": "code",
   "execution_count": 68,
   "id": "cc0cd850",
   "metadata": {},
   "outputs": [
    {
     "data": {
      "text/html": [
       "<div>\n",
       "<style scoped>\n",
       "    .dataframe tbody tr th:only-of-type {\n",
       "        vertical-align: middle;\n",
       "    }\n",
       "\n",
       "    .dataframe tbody tr th {\n",
       "        vertical-align: top;\n",
       "    }\n",
       "\n",
       "    .dataframe thead th {\n",
       "        text-align: right;\n",
       "    }\n",
       "</style>\n",
       "<table border=\"1\" class=\"dataframe\">\n",
       "  <thead>\n",
       "    <tr style=\"text-align: right;\">\n",
       "      <th></th>\n",
       "      <th>default</th>\n",
       "      <th>housing_loan</th>\n",
       "      <th>loan</th>\n",
       "      <th>y</th>\n",
       "    </tr>\n",
       "  </thead>\n",
       "  <tbody>\n",
       "    <tr>\n",
       "      <th>12496</th>\n",
       "      <td>False</td>\n",
       "      <td>False</td>\n",
       "      <td>True</td>\n",
       "      <td>False</td>\n",
       "    </tr>\n",
       "  </tbody>\n",
       "</table>\n",
       "</div>"
      ],
      "text/plain": [
       "       default  housing_loan  loan      y\n",
       "12496    False         False  True  False"
      ]
     },
     "execution_count": 68,
     "metadata": {},
     "output_type": "execute_result"
    }
   ],
   "source": [
    "bool_attributes.sample()"
   ]
  },
  {
   "cell_type": "code",
   "execution_count": 15,
   "id": "1395cb1d",
   "metadata": {},
   "outputs": [
    {
     "data": {
      "text/plain": [
       "<matplotlib.axes._subplots.AxesSubplot at 0x250f2f58e80>"
      ]
     },
     "execution_count": 15,
     "metadata": {},
     "output_type": "execute_result"
    },
    {
     "data": {
      "image/png": "[encoded data removed]",
      "text/plain": [
       "<Figure size 1080x1080 with 4 Axes>"
      ]
     },
     "metadata": {
      "needs_background": "light"
     },
     "output_type": "display_data"
    }
   ],
   "source": [
    "aux = bool_attributes.applymap(lambda x: 1 if x == True else 0)\n",
    "\n",
    "plt.figure(figsize = [15, 15])\n",
    "\n",
    "plt.subplot(3, 2, 1)\n",
    "sns.histplot(x = 'default', data = aux)\n",
    "\n",
    "plt.subplot(3, 2, 2)\n",
    "sns.histplot(x = 'housing_loan', data = aux)\n",
    "\n",
    "plt.subplot(3, 2, 3)\n",
    "sns.histplot(x = 'loan', data = aux)\n",
    "\n",
    "plt.subplot(3, 2, 4)\n",
    "sns.histplot(x = 'y', data = aux)"
   ]
  },
  {
   "cell_type": "markdown",
   "id": "92804551",
   "metadata": {},
   "source": [
    "# 2.0. FEATURE ENGINEERING"
   ]
  },
  {
   "cell_type": "code",
   "execution_count": 88,
   "id": "7cbec1f6",
   "metadata": {},
   "outputs": [],
   "source": [
    "df2 = df1.copy()"
   ]
  },
  {
   "cell_type": "markdown",
   "id": "19590a28",
   "metadata": {},
   "source": [
    "## 2.1. Hypotheses"
   ]
  },
  {
   "cell_type": "markdown",
   "id": "be74110c",
   "metadata": {},
   "source": [
    "**1.** Customers older than 50 are more likely to subscribe;\n",
    "\n",
    "**2.** Unemployed customers are more likely not to subscribe;\n",
    "\n",
    "**3.** Customers whose education level is secondary are more likely to subscribe;\n",
    "\n",
    "**4.** Defaulted customers are not likely to subscribe;\n",
    "\n",
    "**5.** Customers who have not defaulted but with debt tend to subscribe;\n",
    "\n",
    "**6.**  Campaign calling may last longer if the customer subscribes;\n",
    "\n",
    "**7.** First contact is the only one that matters;\n",
    "\n",
    "**8.** People who subscribed to the last marketing campaign tend to subscribe to a new one."
   ]
  },
  {
   "cell_type": "markdown",
   "id": "76e84711",
   "metadata": {},
   "source": [
    "## 2.2. Features"
   ]
  },
  {
   "cell_type": "code",
   "execution_count": 113,
   "id": "c37b267f",
   "metadata": {
    "scrolled": true
   },
   "outputs": [],
   "source": [
    "# Loans\n",
    "df2['total_loan'] = (df2['loan'] | df2['housing_loan'])\n",
    "\n",
    "# Datetimes\n",
    "df2['month_lc_num'] = df2[\"month_lc\"].apply(lambda x: datetime.datetime.strptime(x, \"%b\").month)\n",
    "df2[\"date_lc\"] = df2.apply(lambda x: datetime.datetime(year = 2022, month = x['month_lc_num'], day = x['day_of_month_lc']), axis = 1)\n",
    "df2['week_of_year_lc'] = df2['date_lc'].dt.weekofyear"
   ]
  },
  {
   "cell_type": "markdown",
   "id": "aae84659",
   "metadata": {},
   "source": [
    "# 3. VARIABLES FILTERING"
   ]
  },
  {
   "cell_type": "code",
   "execution_count": 114,
   "id": "e3daac4c",
   "metadata": {},
   "outputs": [],
   "source": [
    "df3 = df2.copy()"
   ]
  },
  {
   "cell_type": "markdown",
   "id": "2b112a3f",
   "metadata": {},
   "source": [
    "## 3.1. Row Filtering"
   ]
  },
  {
   "cell_type": "code",
   "execution_count": 123,
   "id": "32a2e207",
   "metadata": {
    "scrolled": true
   },
   "outputs": [],
   "source": [
    "df3 = df3[(df3['default'] == 0) & (df3['balance'] > 0)]"
   ]
  },
  {
   "cell_type": "markdown",
   "id": "23480837",
   "metadata": {},
   "source": [
    "## 3.2. Columns Selection"
   ]
  },
  {
   "cell_type": "code",
   "execution_count": 124,
   "id": "b6f35679",
   "metadata": {},
   "outputs": [
    {
     "data": {
      "text/plain": [
       "Index(['age', 'job', 'marital_status', 'education_level', 'default', 'balance',\n",
       "       'housing_loan', 'loan', 'contact_way', 'day_of_month_lc', 'month_lc',\n",
       "       'duration_lc', 'contact_count', 'days_p', 'contact_count_p', 'y_p', 'y',\n",
       "       'total_loan', 'month_lc_num', 'date_lc', 'week_of_year_lc'],\n",
       "      dtype='object')"
      ]
     },
     "execution_count": 124,
     "metadata": {},
     "output_type": "execute_result"
    }
   ],
   "source": [
    "df3.columns"
   ]
  },
  {
   "cell_type": "code",
   "execution_count": 128,
   "id": "472b08f5",
   "metadata": {},
   "outputs": [],
   "source": [
    "drop_cols = ['contact_way', 'contact_count', 'loan', 'housing_loan', 'month_lc', 'date_lc']\n",
    "df3 = df3.drop(drop_cols, axis = 1)"
   ]
  },
  {
   "cell_type": "code",
   "execution_count": null,
   "id": "300a8748",
   "metadata": {},
   "outputs": [],
   "source": []
  }
 ],
 "metadata": {
  "kernelspec": {
   "display_name": "Python 3",
   "language": "python",
   "name": "python3"
  },
  "language_info": {
   "codemirror_mode": {
    "name": "ipython",
    "version": 3
   },
   "file_extension": ".py",
   "mimetype": "text/x-python",
   "name": "python",
   "nbconvert_exporter": "python",
   "pygments_lexer": "ipython3",
   "version": "3.8.8"
  }
 },
 "nbformat": 4,
 "nbformat_minor": 5
}
